{
 "cells": [
  {
   "cell_type": "code",
   "execution_count": 1,
   "metadata": {
    "collapsed": true
   },
   "outputs": [],
   "source": [
    "def convert(imgf, labelf, outf, n):\n",
    "    f = open(imgf, \"rb\")\n",
    "    o = open(outf, \"w\")\n",
    "    l = open(labelf, \"rb\")\n",
    "\n",
    "    f.read(16)\n",
    "    l.read(8)\n",
    "    images = []\n",
    "\n",
    "    for i in range(n):\n",
    "        image = [ord(l.read(1))]\n",
    "        for j in range(28*28):\n",
    "            image.append(ord(f.read(1)))\n",
    "        images.append(image)\n",
    "\n",
    "    for image in images:\n",
    "        o.write(\",\".join(str(pix) for pix in image)+\"\\n\")\n",
    "    f.close()\n",
    "    o.close()\n",
    "    l.close()\n",
    "\n",
    "convert(\"/Users/salil/Downloads/train-images-idx3-ubyte\", \"/Users/salil/Downloads/train-labels-idx1-ubyte\",\n",
    "        \"mnist_train.csv\", 60000)\n",
    "convert(\"/Users/salil/Downloads/t10k-images-idx3-ubyte\", \"/Users/salil/Downloads/t10k-labels-idx1-ubyte\",\n",
    "        \"mnist_test.csv\", 10000)"
   ]
  },
  {
   "cell_type": "code",
   "execution_count": 2,
   "metadata": {
    "collapsed": true
   },
   "outputs": [],
   "source": [
    "import pandas as pd\n",
    "pd.set_option('display.max_row', 10000)\n",
    "pd.set_option('display.max_columns', 1000)\n",
    "\n",
    "train = pd.read_csv(\"mnist_train.csv\",header=None)\n",
    "test = pd.read_csv(\"mnist_test.csv\",header=None)\n",
    "#print train.head(10)\n"
   ]
  },
  {
   "cell_type": "code",
   "execution_count": 3,
   "metadata": {},
   "outputs": [
    {
     "name": "stdout",
     "output_type": "stream",
     "text": [
      "0    5\n",
      "1    0\n",
      "2    4\n",
      "3    1\n",
      "4    9\n",
      "5    2\n",
      "6    1\n",
      "7    3\n",
      "8    1\n",
      "9    4\n",
      "Name: 0, dtype: int64\n"
     ]
    },
    {
     "data": {
      "image/png": "[encoded data removed]",
      "text/plain": [
       "<matplotlib.figure.Figure at 0x11a5ccfd0>"
      ]
     },
     "metadata": {},
     "output_type": "display_data"
    },
    {
     "name": "stdout",
     "output_type": "stream",
     "text": [
      "count       784\n",
      "unique        1\n",
      "top       False\n",
      "freq        784\n",
      "dtype: object\n",
      "(60000, 784)\n"
     ]
    }
   ],
   "source": [
    "import seaborn as sns\n",
    "import matplotlib.pyplot as plt\n",
    "\n",
    "# Encode labels to one hot vectors (ex : 2 -> [0,0,1,0,0,0,0,0,0,0])\n",
    "#train = to_categorical(Y_train, num_classes = 10)\n",
    "train_y = train[0]\n",
    "print train_y.head(10)\n",
    "\n",
    "# Drop 'label' column\n",
    "train_x = train.drop(labels = [0],axis = 1) \n",
    "g = sns.countplot(train_y)\n",
    "\n",
    "train_y.value_counts()\n",
    "plt.show()\n",
    "\n",
    "print train_x.isnull().any().describe()\n",
    "print train_x.shape"
   ]
  },
  {
   "cell_type": "code",
   "execution_count": 4,
   "metadata": {},
   "outputs": [
    {
     "name": "stderr",
     "output_type": "stream",
     "text": [
      "Using TensorFlow backend.\n"
     ]
    },
    {
     "data": {
      "image/png": "[encoded data removed]",
      "text/plain": [
       "<matplotlib.figure.Figure at 0x11a5ccd90>"
      ]
     },
     "metadata": {},
     "output_type": "display_data"
    },
    {
     "name": "stdout",
     "output_type": "stream",
     "text": [
      "(54000, 28, 28, 1)\n"
     ]
    }
   ],
   "source": [
    "from keras.utils import to_categorical\n",
    "from sklearn.model_selection import train_test_split\n",
    "\n",
    "# Reshape image in 3 dimensions (height = 28px, width = 28px , canal = 1)\n",
    "train_x = train_x.values.reshape(-1,28,28,1)\n",
    "#test = test.values.reshape(-1,28,28,1)\n",
    "train_x = train_x / 255.0\n",
    "test = test / 255.0\n",
    "train_y = to_categorical(train_y, num_classes = 10)\n",
    "train_x, val_x, train_y, val_y = train_test_split(train_x, train_y, test_size = 0.1, random_state=7)\n",
    "g = plt.imshow(train_x[9][:,:,0])\n",
    "plt.show()\n",
    "print train_x.shape\n"
   ]
  },
  {
   "cell_type": "code",
   "execution_count": 9,
   "metadata": {},
   "outputs": [],
   "source": [
    "from tensorflow.keras.models import Sequential,Model\n",
    "from tensorflow.keras.layers import Dense, Dropout, Flatten, Conv2D, MaxPool2D, Concatenate\n",
    "from tensorflow.keras.optimizers import RMSprop\n",
    "from tensorflow.keras.preprocessing.image import ImageDataGenerator\n",
    "from tensorflow.keras.callbacks import ReduceLROnPlateau\n",
    "\n",
    "model1 = Sequential()\n",
    "\n",
    "model1.add(Conv2D(filters = 32, kernel_size = (3,3),padding = 'Same', \n",
    "                 activation ='relu', input_shape = (28,28,1)))\n",
    "model1.add(Conv2D(filters = 32, kernel_size = (3,3),padding = 'Same', \n",
    "                 activation ='relu'))\n",
    "model1.add(MaxPool2D(pool_size=(2,2)))\n",
    "model1.add(Dropout(0.5))\n",
    "\n",
    "\n",
    "model1.add(Conv2D(filters = 64, kernel_size = (3,3),padding = 'Same', \n",
    "                 activation ='relu'))\n",
    "model1.add(Conv2D(filters = 64, kernel_size = (3,3),padding = 'Same', \n",
    "                 activation ='relu'))\n",
    "model1.add(MaxPool2D(pool_size=(2,2), strides=(2,2)))\n",
    "model1.add(Dropout(0.5))\n",
    "\n",
    "#model = Sequential()\n",
    "\n",
    "#conv3_1 = Sequential()\n",
    "#conv3_1.add(Dense(512,input_shape = (14,14,1), activation = 'relu'))\n",
    " \n",
    "#conv3_2 = Sequential()\n",
    "#conv3_2.add(Dense(512, input_shape =  (14,14,1), activation = 'relu'))\n",
    "#model.add(Concatenate([conv3_1, conv3_2]))\n",
    "#model.add(Dense(512, input_shape =  (7,7,1), activation = 'relu'))\n",
    "\n",
    "model1.add(Flatten())\n",
    "model1.add(Dense(1000, activation = \"relu\"))\n",
    "model1.add(Dropout(0.2))\n",
    "model1.add(Dense(500, activation = \"relu\"))\n",
    "model1.add(Dropout(0.5))\n",
    "model1.add(Dense(10, activation = \"softmax\"))\n",
    "\n",
    "model1.compile(optimizer=\"adam\", loss=\"categorical_crossentropy\", metrics=[\"accuracy\"])"
   ]
  },
  {
   "cell_type": "code",
   "execution_count": null,
   "metadata": {},
   "outputs": [
    {
     "name": "stdout",
     "output_type": "stream",
     "text": [
      "Epoch 1/1\n"
     ]
    }
   ],
   "source": [
    "lr_reduction = ReduceLROnPlateau(monitor='val_acc', \n",
    "                                 patience=3, \n",
    "                                 verbose=1, \n",
    "                                 factor=0.5, \n",
    "                                 min_lr=0.00001)\n",
    "\n",
    "datagen = ImageDataGenerator(\n",
    "          featurewise_center=False,            # set input mean to 0 over the dataset\n",
    "          samplewise_center=False,             # set each sample mean to 0\n",
    "          featurewise_std_normalization=False, # divide inputs by std of the dataset\n",
    "          samplewise_std_normalization=False,  # divide each input by its std\n",
    "          zca_whitening=False,                 # apply ZCA whitening\n",
    "          rotation_range=30,                   # randomly rotate images in the range (degrees, 0 to 180)\n",
    "          zoom_range = 0.1,                    # Randomly zoom image \n",
    "          width_shift_range=0.1,               # randomly shift images horizontally (fraction of total width)\n",
    "          height_shift_range=0.1,              # randomly shift images vertically (fraction of total height)\n",
    "          horizontal_flip=False,               # randomly flip images\n",
    "          vertical_flip=False)                 # randomly flip images\n",
    "\n",
    "epochs = 1\n",
    "batch_size = 64\n",
    "\n",
    "datagen.fit(train_x)\n",
    "history = model1.fit(train_x,train_y,\n",
    "                              epochs=epochs, \n",
    "                              validation_data=(val_x,val_y),\n",
    "                              verbose=1, \n",
    "                              steps_per_epoch=train_x.shape[0] // batch_size,\n",
    "                              callbacks=[lr_reduction])\n"
   ]
  },
  {
   "cell_type": "code",
   "execution_count": null,
   "metadata": {
    "collapsed": true
   },
   "outputs": [],
   "source": []
  }
 ],
 "metadata": {
  "kernelspec": {
   "display_name": "Python 2",
   "language": "python",
   "name": "python2"
  },
  "language_info": {
   "codemirror_mode": {
    "name": "ipython",
    "version": 2
   },
   "file_extension": ".py",
   "mimetype": "text/x-python",
   "name": "python",
   "nbconvert_exporter": "python",
   "pygments_lexer": "ipython2",
   "version": "2.7.14"
  }
 },
 "nbformat": 4,
 "nbformat_minor": 2
}
